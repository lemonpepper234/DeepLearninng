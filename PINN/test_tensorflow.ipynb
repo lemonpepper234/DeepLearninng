{
 "cells": [
  {
   "cell_type": "code",
   "execution_count": 9,
   "metadata": {},
   "outputs": [
    {
     "name": "stdout",
     "output_type": "stream",
     "text": [
      "2.4.0\n"
     ]
    }
   ],
   "source": [
    "import tensorflow as tf\n",
    "tf.debugging.set_log_device_placement(True)\n",
    "print(tf.__version__)\n"
   ]
  },
  {
   "cell_type": "code",
   "execution_count": 17,
   "metadata": {},
   "outputs": [
    {
     "name": "stdout",
     "output_type": "stream",
     "text": [
      "[PhysicalDevice(name='/physical_device:GPU:0', device_type='GPU')]\n"
     ]
    }
   ],
   "source": [
    "print(tf.config.list_physical_devices('GPU'))\n"
   ]
  },
  {
   "cell_type": "code",
   "execution_count": 7,
   "metadata": {},
   "outputs": [
    {
     "name": "stdout",
     "output_type": "stream",
     "text": [
      "tf.Tensor(\n",
      "[[323.3636  242.26758 247.74321 ... 243.57253 240.74985 248.18108]\n",
      " [242.26758 331.87793 253.15417 ... 245.6203  244.81635 258.34937]\n",
      " [247.74321 253.15417 338.92386 ... 255.94273 248.80397 257.96732]\n",
      " ...\n",
      " [243.57253 245.6203  255.94273 ... 330.47473 239.46445 257.59903]\n",
      " [240.74985 244.81635 248.80397 ... 239.46445 327.18317 250.94493]\n",
      " [248.18108 258.34937 257.96732 ... 257.59903 250.94493 340.65466]], shape=(1000, 1000), dtype=float32)\n"
     ]
    }
   ],
   "source": [
    "\n",
    "\n",
    "\n",
    "tf.random.set_seed(0)\n",
    "tensor = tf.random.uniform([1000, 1000])\n",
    "result = tf.matmul(tensor, tf.transpose(tensor))\n",
    "print(result)"
   ]
  },
  {
   "cell_type": "code",
   "execution_count": 21,
   "metadata": {},
   "outputs": [
    {
     "name": "stdout",
     "output_type": "stream",
     "text": [
      "tf.Tensor(\n",
      "[[2513.1128 2516.7095 2478.8862 ... 2481.6472 2491.4343 2470.2815]\n",
      " [2519.4856 2528.8167 2507.1907 ... 2481.2095 2500.4177 2487.4302]\n",
      " [2502.1182 2498.3486 2452.7007 ... 2456.582  2464.8296 2449.35  ]\n",
      " ...\n",
      " [2572.9487 2571.877  2551.061  ... 2523.4143 2541.538  2524.5696]\n",
      " [2558.088  2530.0889 2497.8032 ... 2503.9473 2501.7656 2492.2876]\n",
      " [2521.7166 2512.0212 2484.7183 ... 2461.546  2485.1335 2479.9802]], shape=(10000, 10000), dtype=float32)\n"
     ]
    }
   ],
   "source": [
    "gpu_device = '/device:GPU:0'\n",
    "\n",
    "with tf.device(gpu_device):\n",
    "    # 在GPU上执行的操作\n",
    "    a = tf.random.uniform([10000, 10000], dtype=tf.float32)\n",
    "    b = tf.random.uniform([10000, 10000], dtype=tf.float32)\n",
    "    c = tf.matmul(a, b)\n",
    "\n",
    "# 打印结果\n",
    "print(c)"
   ]
  }
 ],
 "metadata": {
  "kernelspec": {
   "display_name": "deepL",
   "language": "python",
   "name": "python3"
  },
  "language_info": {
   "codemirror_mode": {
    "name": "ipython",
    "version": 3
   },
   "file_extension": ".py",
   "mimetype": "text/x-python",
   "name": "python",
   "nbconvert_exporter": "python",
   "pygments_lexer": "ipython3",
   "version": "3.7.16"
  }
 },
 "nbformat": 4,
 "nbformat_minor": 2
}
