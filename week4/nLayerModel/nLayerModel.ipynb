{
 "cells": [
  {
   "cell_type": "code",
   "execution_count": 7,
   "metadata": {},
   "outputs": [
    {
     "data": {
      "text/plain": [
       "'\\nnx\\nsizes_of_layers = [nx, ...., 1]\\n'"
      ]
     },
     "execution_count": 7,
     "metadata": {},
     "output_type": "execute_result"
    }
   ],
   "source": [
    "import numpy as np\n",
    "import h5py\n",
    "import matplotlib.pyplot as plt\n",
    "from testCases_v3 import *\n",
    "#* the initial parameter\n",
    "\n",
    "\"\"\"\n",
    "nx\n",
    "sizes_of_layers = [nx, ...., 1]\n",
    "\"\"\"\n",
    "\n",
    "\n"
   ]
  },
  {
   "cell_type": "code",
   "execution_count": 31,
   "metadata": {},
   "outputs": [],
   "source": [
    "def relu(Z):\n",
    "    \n",
    "    A = np.maximum(0, Z)\n",
    "    assert(A.shape == Z.shape)\n",
    "\n",
    "    cache = Z\n",
    "    return A\n",
    "\n",
    "def sigmoid(Z):\n",
    "    \n",
    "    A = 1/(1 + np.exp(-Z))\n",
    "    assert(A.shape == Z.shape)\n",
    "\n",
    "    cache = Z\n",
    "    return A\n",
    "\n",
    "#* dZ = dA* g'(Z)\n",
    "def back_relu(dA, Z):\n",
    "    \n",
    "    dZ = np.array(dA, copy = True)\n",
    "    dZ[Z <= 0 ] = 0\n",
    "\n",
    "    return dZ\n",
    "\n",
    "def back_sigmoid(dA, Z):\n",
    "\n",
    "    s = 1/(1 + np.exp(- Z))\n",
    "    dZ = dA * s * (1 - s)\n",
    "\n",
    "    return dZ"
   ]
  },
  {
   "cell_type": "markdown",
   "metadata": {},
   "source": [
    "## The cache of forward prop and backward prop:\n",
    "\n",
    "Forward prop: cache for lth layer = $[( \\text{A}^{[l]}, \\text{W}^{[l]}, \\text{b}^{[l]}, \\text{Z}^{[l]}), \\dots, ]$\n",
    "\n",
    "Backward prop: grads for lth layer = $\\{ \\text{dA}^{[l - 1]}, \\text{dW}^{[l]}, \\text{db}^{[l]} \\}$\n",
    "\n"
   ]
  },
  {
   "cell_type": "code",
   "execution_count": 9,
   "metadata": {},
   "outputs": [],
   "source": [
    "\n",
    "#* initialize the parameters: W and b\n",
    "\n",
    "def initialize_parameter(sizes_of_layers):\n",
    "    np.random.seed(3)\n",
    "    parameters = {}\n",
    "    #* only concern about the layer 2 to layer L, layer 1 is the input layer\n",
    "    for i in range(1, len(sizes_of_layers)):\n",
    "        parameters[\"W\" + str(i)] = np.random.rand(sizes_of_layers[i], sizes_of_layers[i - 1]) * 0.01\n",
    "        parameters[\"b\" + str(i)] = np.zeros((sizes_of_layers[i], 1))\n",
    "\n",
    "    return parameters"
   ]
  },
  {
   "cell_type": "markdown",
   "metadata": {},
   "source": [
    "**Notice:**\n",
    "\n",
    "For the function which returns several variables, if you assign the function to single variable, then this variable will be Tulpe, namely `(variable1 , variable2 , ...)`"
   ]
  },
  {
   "cell_type": "code",
   "execution_count": 46,
   "metadata": {},
   "outputs": [],
   "source": [
    "\n",
    "#* forward\n",
    "def forward_porpogate(X, parameters, activation):\n",
    "\n",
    "    caches = []\n",
    "\n",
    "    activation_dict = {\"relu\": relu,\n",
    "                       \"sigmoid\": sigmoid}\n",
    "    \n",
    "    activation_fun = activation_dict[activation]\n",
    "\n",
    "    L = len(parameters) // 2 # the number of layers, input layer doesn't contain\n",
    "\n",
    "    A = X\n",
    "    for i in range(1, L):\n",
    "        A_prev = A\n",
    "        W = parameters[\"W\" + str(i)]\n",
    "        b = parameters[\"b\" + str(i)]\n",
    "        Z = np.dot(W, A_prev) + b\n",
    "        A = activation_fun(Z)\n",
    "        caches.append((A, W, b, Z, A_prev))\n",
    "        \n",
    "        '''\n",
    "        print (\"A_prev\" + str(A_prev.shape))\n",
    "        print (\"W\" + str(W.shape))\n",
    "        print (\"b\" + str(b.shape))\n",
    "        print (\"Z\" + str(Z.shape))\n",
    "        print (\"A\" + str(A.shape))\n",
    "        '''\n",
    "\n",
    "\n",
    "    WL = parameters[\"W\" + str(L)]\n",
    "    bL = parameters[\"b\" + str(L)]\n",
    "    ZL = np.dot(WL, A) + bL\n",
    "    AL = sigmoid(ZL)\n",
    "    \n",
    "    '''\n",
    "    print (\"A\" + str(A.shape))\n",
    "    print (\"WL\" + str(WL.shape))\n",
    "    print (\"bL\" + str(bL.shape))\n",
    "    print (\"ZL\" + str(ZL.shape))\n",
    "    print (\"AL\" + str(AL.shape))\n",
    "    '''\n",
    "\n",
    "    caches.append((AL, WL, bL, ZL, A))\n",
    "\n",
    "    return caches\n"
   ]
  },
  {
   "cell_type": "code",
   "execution_count": 47,
   "metadata": {},
   "outputs": [
    {
     "name": "stdout",
     "output_type": "stream",
     "text": [
      "AL = [[0.03921668 0.70498921 0.19734387 0.04728177]]\n",
      "Length of caches list = 3\n"
     ]
    }
   ],
   "source": [
    "X, parameters = L_model_forward_test_case_2hidden()\n",
    "caches = forward_porpogate(X, parameters, \"relu\")\n",
    "AL, WL, bL, ZL = caches[len(caches) - 1]\n",
    "print(\"AL = \" + str(AL))\n",
    "print(\"Length of caches list = \" + str(len(caches)))"
   ]
  },
  {
   "cell_type": "code",
   "execution_count": null,
   "metadata": {},
   "outputs": [],
   "source": [
    "\n",
    "#* cost function\n",
    "def cost_fun(A, Y):\n",
    "    m = Y.shape[1]\n",
    "\n",
    "    cost = -(1/m) * ( np.dot*(Y, np.log(A.T)) + np.dot( 1 - Y , np.log( 1 - A ).T ) )\n",
    "    cost = np.squeeze(cost)\n",
    "    return cost\n",
    "\n",
    "#*backward\n",
    "def back_propogate(Y, parameters, caches):\n",
    "\n",
    "    grads = {}\n",
    "\n",
    "    m = Y.shape[1]\n",
    "\n",
    "    L = len(parameters) // 2 # the number of layers, input layer doesn't contain\n",
    "    assert(L == len(caches))\n",
    "\n",
    "    AL, WL, bL, ZL = caches[L - 1]\n",
    "    AL_prev = ZL\n",
    "\n",
    "    WL = parameters[\"W\" + str(L)]\n",
    "\n",
    "    dAL = -(np.divide(Y, AL) - np.divide(1 - Y, 1 - AL))\n",
    "    dZL = back_sigmoid(dAL, ZL)\n",
    "    dWL = (1/m) * np.dot(dZL, AL_next.T)\n",
    "    dbL = (1/m) * np.sum(dZL, axis = 1, keepdims = True)\n",
    "    dAL_nexy = np.dot(WL.T, dZL)\n"
   ]
  }
 ],
 "metadata": {
  "kernelspec": {
   "display_name": "deeplearning",
   "language": "python",
   "name": "python3"
  },
  "language_info": {
   "codemirror_mode": {
    "name": "ipython",
    "version": 3
   },
   "file_extension": ".py",
   "mimetype": "text/x-python",
   "name": "python",
   "nbconvert_exporter": "python",
   "pygments_lexer": "ipython3",
   "version": "3.12.0"
  }
 },
 "nbformat": 4,
 "nbformat_minor": 2
}
