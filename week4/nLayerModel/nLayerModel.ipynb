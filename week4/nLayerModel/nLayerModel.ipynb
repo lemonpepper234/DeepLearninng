{
 "cells": [
  {
   "cell_type": "code",
   "execution_count": 1,
   "metadata": {},
   "outputs": [
    {
     "data": {
      "text/plain": [
       "'\\nnx\\nsizes_of_layers = [nx, ...., 1]\\n'"
      ]
     },
     "execution_count": 1,
     "metadata": {},
     "output_type": "execute_result"
    }
   ],
   "source": [
    "import numpy as np\n",
    "import h5py\n",
    "import matplotlib.pyplot as plt\n",
    "from tools import *\n",
    "from PIL import Image\n",
    "from scipy import ndimage\n",
    "from lr_utils import load_dataset\n",
    "\n",
    "plt.rcParams['figure.figsize'] = (5.0, 4.0) # set default size of plots\n",
    "plt.rcParams['image.interpolation'] = 'nearest'\n",
    "plt.rcParams['image.cmap'] = 'gray'\n",
    "\n",
    "\n",
    "np.random.seed(1)\n",
    "\"\"\"\n",
    "nx\n",
    "sizes_of_layers = [nx, ...., 1]\n",
    "\"\"\"\n",
    "\n",
    "\n"
   ]
  },
  {
   "cell_type": "code",
   "execution_count": 2,
   "metadata": {},
   "outputs": [],
   "source": [
    "def relu(Z):\n",
    "    \n",
    "    A = np.maximum(0, Z)\n",
    "    assert(A.shape == Z.shape)\n",
    "\n",
    "    cache = Z\n",
    "    return A\n",
    "\n",
    "def sigmoid(Z):\n",
    "    \n",
    "    A = 1/(1 + np.exp(-Z))\n",
    "    assert(A.shape == Z.shape)\n",
    "\n",
    "    cache = Z\n",
    "    return A\n",
    "\n",
    "#* dZ = dA* g'(Z)\n",
    "def back_relu(dA, Z):\n",
    "    \n",
    "    dZ = np.array(dA, copy = True)\n",
    "    dZ[Z <= 0 ] = 0\n",
    "\n",
    "    return dZ\n",
    "\n",
    "def back_sigmoid(dA, Z):\n",
    "\n",
    "    s = 1/(1 + np.exp(- Z))\n",
    "    dZ = dA * s * (1 - s)\n",
    "\n",
    "    return dZ"
   ]
  },
  {
   "cell_type": "markdown",
   "metadata": {},
   "source": [
    "## The cache of forward prop and backward prop:\n",
    "\n",
    "Forward prop: cache for lth layer = $[( \\text{A}^{[l]}, \\text{W}^{[l]}, \\text{b}^{[l]}, \\text{Z}^{[l]}), \\dots, ]$\n",
    "\n",
    "Backward prop: grads for lth layer = $\\{ \\text{dA}^{[l - 1]}, \\text{dW}^{[l]}, \\text{db}^{[l]} \\}$\n",
    "\n"
   ]
  },
  {
   "cell_type": "code",
   "execution_count": 3,
   "metadata": {},
   "outputs": [],
   "source": [
    "\n",
    "#* initialize the parameters: W and b\n",
    "\n",
    "def initialize_parameter(sizes_of_layers):\n",
    "    np.random.seed(3)\n",
    "    parameters = {}\n",
    "    #* only concern about the layer 2 to layer L, layer 1 is the input layer\n",
    "    for i in range(1, len(sizes_of_layers)):\n",
    "        parameters[\"W\" + str(i)] = np.random.rand(sizes_of_layers[i], sizes_of_layers[i - 1]) * 0.01\n",
    "        parameters[\"b\" + str(i)] = np.zeros((sizes_of_layers[i], 1))\n",
    "\n",
    "    return parameters"
   ]
  },
  {
   "cell_type": "markdown",
   "metadata": {},
   "source": [
    "**Notice:**\n",
    "\n",
    "For the function which returns several variables, if you assign the function to single variable, then this variable will be Tulpe, namely `(variable1 , variable2 , ...)`\n",
    "\n",
    "**The structure of caches:**\n",
    "```python\n",
    "    caches[l] = (Al, Wl, bl, Zl, A_prev)\n",
    "```\n",
    "\n",
    "Which means it contians the input layer."
   ]
  },
  {
   "cell_type": "code",
   "execution_count": 4,
   "metadata": {},
   "outputs": [],
   "source": [
    "\n",
    "#* forward\n",
    "def forward_porpogate(X, parameters, activation):\n",
    "\n",
    "    caches = []\n",
    "\n",
    "    activation_dict = {\"relu\": relu,\n",
    "                       \"sigmoid\": sigmoid}\n",
    "    \n",
    "    activation_fun = activation_dict[activation]\n",
    "\n",
    "    L = len(parameters) // 2 # the number of layers, input layer doesn't contain\n",
    "\n",
    "    A = X\n",
    "    for i in range(1, L):\n",
    "        A_prev = A\n",
    "        W = parameters[\"W\" + str(i)]\n",
    "        b = parameters[\"b\" + str(i)]\n",
    "        Z = np.dot(W, A_prev) + b\n",
    "        A = activation_fun(Z)\n",
    "        caches.append((A, W, b, Z, A_prev))\n",
    "        \n",
    "        '''\n",
    "        print (\"A_prev\" + str(A_prev.shape))\n",
    "        print (\"W\" + str(W.shape))\n",
    "        print (\"b\" + str(b.shape))\n",
    "        print (\"Z\" + str(Z.shape))\n",
    "        print (\"A\" + str(A.shape))\n",
    "        '''\n",
    "\n",
    "\n",
    "    WL = parameters[\"W\" + str(L)]\n",
    "    bL = parameters[\"b\" + str(L)]\n",
    "    ZL = np.dot(WL, A) + bL\n",
    "    AL = sigmoid(ZL)\n",
    "    \n",
    "    '''\n",
    "    print (\"A\" + str(A.shape))\n",
    "    print (\"WL\" + str(WL.shape))\n",
    "    print (\"bL\" + str(bL.shape))\n",
    "    print (\"ZL\" + str(ZL.shape))\n",
    "    print (\"AL\" + str(AL.shape))\n",
    "    '''\n",
    "\n",
    "    caches.append((AL, WL, bL, ZL, A))\n",
    "\n",
    "    return caches\n"
   ]
  },
  {
   "cell_type": "code",
   "execution_count": 5,
   "metadata": {},
   "outputs": [
    {
     "ename": "NameError",
     "evalue": "name 'L_model_forward_test_case_2hidden' is not defined",
     "output_type": "error",
     "traceback": [
      "\u001b[1;31m---------------------------------------------------------------------------\u001b[0m",
      "\u001b[1;31mNameError\u001b[0m                                 Traceback (most recent call last)",
      "Cell \u001b[1;32mIn[5], line 1\u001b[0m\n\u001b[1;32m----> 1\u001b[0m X, parameters \u001b[38;5;241m=\u001b[39m \u001b[43mL_model_forward_test_case_2hidden\u001b[49m()\n\u001b[0;32m      2\u001b[0m caches \u001b[38;5;241m=\u001b[39m forward_porpogate(X, parameters, \u001b[38;5;124m\"\u001b[39m\u001b[38;5;124mrelu\u001b[39m\u001b[38;5;124m\"\u001b[39m)\n\u001b[0;32m      3\u001b[0m AL, WL, bL, ZL, A \u001b[38;5;241m=\u001b[39m caches[\u001b[38;5;28mlen\u001b[39m(caches) \u001b[38;5;241m-\u001b[39m \u001b[38;5;241m1\u001b[39m]\n",
      "\u001b[1;31mNameError\u001b[0m: name 'L_model_forward_test_case_2hidden' is not defined"
     ]
    }
   ],
   "source": [
    "X, parameters = L_model_forward_test_case_2hidden()\n",
    "caches = forward_porpogate(X, parameters, \"relu\")\n",
    "AL, WL, bL, ZL, A = caches[len(caches) - 1]\n",
    "print(\"AL = \" + str(AL))\n",
    "print(\"Length of caches list = \" + str(len(caches)))"
   ]
  },
  {
   "cell_type": "code",
   "execution_count": null,
   "metadata": {},
   "outputs": [],
   "source": [
    "\n",
    "#* cost function\n",
    "def cost_fun(A, Y):\n",
    "    m = Y.shape[1]\n",
    "\n",
    "    cost = -(1/m) * ( np.dot*(Y, np.log(A.T)) + np.dot( 1 - Y , np.log( 1 - A ).T ) )\n",
    "    cost = np.squeeze(cost)\n",
    "    return cost\n",
    "\n",
    "#*backward\n",
    "def back_propogate(Y, caches, activation):\n",
    "\n",
    "    activation_dict={\"relu\": back_relu,\n",
    "                     \"sigmoid\": back_sigmoid}\n",
    "    \n",
    "    activation_fun = activation_dict[activation]\n",
    "\n",
    "\n",
    "    #* caches - AL WL bL ZL A_prev\n",
    "    grads = {}\n",
    "\n",
    "    m = Y.shape[1]\n",
    "\n",
    "    L = len(caches) # the number of layers, input layer doesn't contain\n",
    "    \n",
    "    AL, WL, bL, ZL, AL_prev = caches[L - 1]\n",
    "\n",
    "    dAL = -(np.divide(Y, AL) - np.divide(1 - Y, 1 - AL))\n",
    "    dZL = back_sigmoid(dAL, ZL)\n",
    "    dWL = (1/m) * np.dot(dZL, AL_prev.T)\n",
    "    dbL = (1/m) * np.sum(dZL, axis = 1, keepdims = True)\n",
    "    dAL_next = np.dot(WL.T, dZL)\n",
    "\n",
    "    grads[\"dW\" + str(L)] = dWL\n",
    "    grads[\"dA\" + str(L)] = dAL_next #! it denots dA^l-1 !!!\n",
    "    grads[\"db\" + str(L)] = dbL\n",
    "\n",
    "    for i in reversed(range(L - 1 )):\n",
    "        A, W, b, Z, A_prev = caches[i]\n",
    "\n",
    "        dA_current = grads[\"dA\" + str(i + 2)]\n",
    "        dZ = activation_fun(dA_current, Z)\n",
    "        dW = (1/m) * np.dot(dZ, A_prev.T)\n",
    "        db = (1/m) * np.sum(dZ, axis = 1, keepdims = True)\n",
    "        dA_next = np.dot(W.T, dZ)\n",
    "\n",
    "        grads[\"dW\" + str(i + 1)] = dW\n",
    "        grads[\"dA\" + str(i + 1)] = dA_next #! it denots dA^l-1 !!!\n",
    "        grads[\"db\" + str(i + 1)] = db\n",
    "\n",
    "    return grads"
   ]
  },
  {
   "cell_type": "code",
   "execution_count": null,
   "metadata": {},
   "outputs": [
    {
     "name": "stdout",
     "output_type": "stream",
     "text": [
      "dW1 = [[0.41010002 0.07807203 0.13798444 0.10502167]\n",
      " [0.         0.         0.         0.        ]\n",
      " [0.05283652 0.01005865 0.01777766 0.0135308 ]]\n",
      "db1 = [[-0.22007063]\n",
      " [ 0.        ]\n",
      " [-0.02835349]]\n",
      "dA1 = [[ 0.12913162 -0.44014127]\n",
      " [-0.14175655  0.48317296]\n",
      " [ 0.01663708 -0.05670698]]\n"
     ]
    }
   ],
   "source": [
    "Y, caches = L_model_backward_test_case()\n",
    "grads = back_propogate(Y, caches, \"relu\")\n",
    "print_grads(grads)"
   ]
  },
  {
   "cell_type": "code",
   "execution_count": null,
   "metadata": {},
   "outputs": [],
   "source": [
    "def update_parameters(parameters, grads, learning_rate):\n",
    "    L = len(parameters) // 2\n",
    "\n",
    "    for i in range(1 , L + 1):\n",
    "        parameters[\"W\" + str(i)] = parameters[\"W\" + str(i)] - learning_rate * grads[\"dW\" + str(i)]\n",
    "        parameters[\"b\" + str(i)] = parameters[\"b\" + str(i)] - learning_rate * grads[\"db\" + str(i)]\n",
    "\n",
    "    return parameters"
   ]
  },
  {
   "cell_type": "code",
   "execution_count": null,
   "metadata": {},
   "outputs": [
    {
     "name": "stdout",
     "output_type": "stream",
     "text": [
      "W1 = [[-0.59562069 -0.09991781 -2.14584584  1.82662008]\n",
      " [-1.76569676 -0.80627147  0.51115557 -1.18258802]\n",
      " [-1.0535704  -0.86128581  0.68284052  2.20374577]]\n",
      "b1 = [[-0.04659241]\n",
      " [-1.28888275]\n",
      " [ 0.53405496]]\n",
      "W2 = [[-0.55569196  0.0354055   1.32964895]]\n",
      "b2 = [[-0.84610769]]\n"
     ]
    }
   ],
   "source": [
    "parameters, grads = update_parameters_test_case()\n",
    "parameters = update_parameters(parameters, grads, 0.1)\n",
    "\n",
    "print (\"W1 = \"+ str(parameters[\"W1\"]))\n",
    "print (\"b1 = \"+ str(parameters[\"b1\"]))\n",
    "print (\"W2 = \"+ str(parameters[\"W2\"]))\n",
    "print (\"b2 = \"+ str(parameters[\"b2\"]))"
   ]
  },
  {
   "cell_type": "markdown",
   "metadata": {},
   "source": [
    "## The Data Normalization:\n",
    "\n",
    "Nomalizse the data, for RGB matrix, just divide it by 255."
   ]
  },
  {
   "cell_type": "code",
   "execution_count": null,
   "metadata": {},
   "outputs": [
    {
     "name": "stdout",
     "output_type": "stream",
     "text": [
      "sb\n"
     ]
    }
   ],
   "source": [
    "train_set_x_orig, train_set_y, test_set_x_orig, test_set_y, classes = load_dataset()\n",
    "\n",
    "x_set_train_flatten = train_set_x_orig.reshape(train_set_x_orig.shape[0], -1).T\n",
    "x_set_test_flatten = test_set_x_orig.reshape(test_set_x_orig.shape[0], -1).T\n",
    "\n",
    "#* normoliaze\n",
    "train_x =x_set_train_flatten/255.\n",
    "test_x = x_set_test_flatten/255.\n",
    "\n",
    "print (\"sb\")"
   ]
  },
  {
   "cell_type": "markdown",
   "metadata": {},
   "source": []
  },
  {
   "cell_type": "code",
   "execution_count": null,
   "metadata": {},
   "outputs": [],
   "source": [
    "def L_layer_model_training(X, Y, sizes_of_layers, activation, learning_rate, iteration_num, print_cost = True):\n",
    "\n",
    "    #* check whether the size of the first and last layer are set correctly.\n",
    "    assert sizes_of_layers[0] == X.shape[0], \"the size of the first layer does not match the input layer.\"\n",
    "    assert sizes_of_layers[-1] == 1, \"the output is a value not array!\"\n",
    "\n",
    "    parameters = initialize_parameter(sizes_of_layers)\n",
    "\n",
    "    cost_list = []\n",
    "\n",
    "    for i in range(1, iteration_num + 1):\n",
    "        caches = forward_porpogate(X, parameters, activation)\n",
    "        grads = back_propogate(Y, caches, activation)\n",
    "        update_parameters(parameters, grads, learning_rate)\n",
    "\n",
    "        AL, WL, bL, ZL, A = caches[-1]\n",
    "        cost = cost_fun(AL, Y)\n",
    "\n",
    "        if print_cost and i % 100 == 0:\n",
    "            print(\"Cost after iteration {}: {}\".format(i, np.squeeze(cost)))\n",
    "        if print_cost and i % 100 == 0:\n",
    "            cost_list.append(cost)\n",
    "\n",
    "    return parameters\n"
   ]
  },
  {
   "cell_type": "code",
   "execution_count": null,
   "metadata": {},
   "outputs": [
    {
     "name": "stdout",
     "output_type": "stream",
     "text": [
      "209\n"
     ]
    },
    {
     "ename": "TypeError",
     "evalue": "can't multiply sequence by non-int of type 'numpy._ArrayFunctionDispatcher'",
     "output_type": "error",
     "traceback": [
      "\u001b[1;31m---------------------------------------------------------------------------\u001b[0m",
      "\u001b[1;31mTypeError\u001b[0m                                 Traceback (most recent call last)",
      "Cell \u001b[1;32mIn[24], line 8\u001b[0m\n\u001b[0;32m      4\u001b[0m activation \u001b[38;5;241m=\u001b[39m \u001b[38;5;124m\"\u001b[39m\u001b[38;5;124mrelu\u001b[39m\u001b[38;5;124m\"\u001b[39m\n\u001b[0;32m      6\u001b[0m \u001b[38;5;28mprint\u001b[39m(train_x\u001b[38;5;241m.\u001b[39mshape[\u001b[38;5;241m1\u001b[39m])\n\u001b[1;32m----> 8\u001b[0m \u001b[43mL_layer_model_training\u001b[49m\u001b[43m(\u001b[49m\u001b[43mtrain_x\u001b[49m\u001b[43m,\u001b[49m\u001b[43m \u001b[49m\u001b[43mtrain_set_y\u001b[49m\u001b[43m,\u001b[49m\u001b[43m \u001b[49m\u001b[43msizes_of_layers\u001b[49m\u001b[43m,\u001b[49m\u001b[43m \u001b[49m\u001b[43mactivation\u001b[49m\u001b[43m,\u001b[49m\u001b[43m \u001b[49m\u001b[43mlearning_rate\u001b[49m\u001b[43m,\u001b[49m\u001b[43m \u001b[49m\u001b[43miteration_num\u001b[49m\u001b[43m,\u001b[49m\u001b[43m \u001b[49m\u001b[43mprint_cost\u001b[49m\u001b[43m \u001b[49m\u001b[38;5;241;43m=\u001b[39;49m\u001b[43m \u001b[49m\u001b[38;5;28;43;01mTrue\u001b[39;49;00m\u001b[43m)\u001b[49m\n",
      "Cell \u001b[1;32mIn[17], line 17\u001b[0m, in \u001b[0;36mL_layer_model_training\u001b[1;34m(X, Y, sizes_of_layers, activation, learning_rate, iteration_num, print_cost)\u001b[0m\n\u001b[0;32m     14\u001b[0m update_parameters(parameters, grads, learning_rate)\n\u001b[0;32m     16\u001b[0m AL, WL, bL, ZL, A \u001b[38;5;241m=\u001b[39m caches[\u001b[38;5;241m-\u001b[39m\u001b[38;5;241m1\u001b[39m]\n\u001b[1;32m---> 17\u001b[0m cost \u001b[38;5;241m=\u001b[39m \u001b[43mcost_fun\u001b[49m\u001b[43m(\u001b[49m\u001b[43mAL\u001b[49m\u001b[43m,\u001b[49m\u001b[43m \u001b[49m\u001b[43mY\u001b[49m\u001b[43m)\u001b[49m\n\u001b[0;32m     19\u001b[0m \u001b[38;5;28;01mif\u001b[39;00m print_cost \u001b[38;5;129;01mand\u001b[39;00m i \u001b[38;5;241m%\u001b[39m \u001b[38;5;241m100\u001b[39m \u001b[38;5;241m==\u001b[39m \u001b[38;5;241m0\u001b[39m:\n\u001b[0;32m     20\u001b[0m     \u001b[38;5;28mprint\u001b[39m(\u001b[38;5;124m\"\u001b[39m\u001b[38;5;124mCost after iteration \u001b[39m\u001b[38;5;132;01m{}\u001b[39;00m\u001b[38;5;124m: \u001b[39m\u001b[38;5;132;01m{}\u001b[39;00m\u001b[38;5;124m\"\u001b[39m\u001b[38;5;241m.\u001b[39mformat(i, np\u001b[38;5;241m.\u001b[39msqueeze(cost)))\n",
      "File \u001b[1;32mc:\\sciencificcomputation\\code\\deeplearning\\week4\\nLayerModel\\tools.py:38\u001b[0m, in \u001b[0;36mcost_fun\u001b[1;34m(A, Y)\u001b[0m\n\u001b[0;32m     35\u001b[0m \u001b[38;5;28;01mdef\u001b[39;00m \u001b[38;5;21mcost_fun\u001b[39m(A, Y):\n\u001b[0;32m     36\u001b[0m     m \u001b[38;5;241m=\u001b[39m Y\u001b[38;5;241m.\u001b[39mshape[\u001b[38;5;241m1\u001b[39m]\n\u001b[1;32m---> 38\u001b[0m     cost \u001b[38;5;241m=\u001b[39m \u001b[38;5;241m-\u001b[39m(\u001b[38;5;241m1\u001b[39m\u001b[38;5;241m/\u001b[39mm) \u001b[38;5;241m*\u001b[39m ( \u001b[43mnp\u001b[49m\u001b[38;5;241;43m.\u001b[39;49m\u001b[43mdot\u001b[49m\u001b[38;5;241;43m*\u001b[39;49m\u001b[43m(\u001b[49m\u001b[43mY\u001b[49m\u001b[43m,\u001b[49m\u001b[43m \u001b[49m\u001b[43mnp\u001b[49m\u001b[38;5;241;43m.\u001b[39;49m\u001b[43mlog\u001b[49m\u001b[43m(\u001b[49m\u001b[43mA\u001b[49m\u001b[38;5;241;43m.\u001b[39;49m\u001b[43mT\u001b[49m\u001b[43m)\u001b[49m\u001b[43m)\u001b[49m \u001b[38;5;241m+\u001b[39m np\u001b[38;5;241m.\u001b[39mdot( \u001b[38;5;241m1\u001b[39m \u001b[38;5;241m-\u001b[39m Y , np\u001b[38;5;241m.\u001b[39mlog( \u001b[38;5;241m1\u001b[39m \u001b[38;5;241m-\u001b[39m A )\u001b[38;5;241m.\u001b[39mT ) )\n\u001b[0;32m     39\u001b[0m     cost \u001b[38;5;241m=\u001b[39m np\u001b[38;5;241m.\u001b[39msqueeze(cost)\n\u001b[0;32m     40\u001b[0m     \u001b[38;5;28;01mreturn\u001b[39;00m cost\n",
      "\u001b[1;31mTypeError\u001b[0m: can't multiply sequence by non-int of type 'numpy._ArrayFunctionDispatcher'"
     ]
    }
   ],
   "source": [
    "sizes_of_layers = [12288, 20, 7, 5, 1]\n",
    "iteration_num = 3000\n",
    "learning_rate = 0.0075\n",
    "activation = \"relu\"\n",
    "\n",
    "print(train_x.shape[1])\n",
    "\n",
    "L_layer_model_training(train_x, train_set_y, sizes_of_layers, activation, learning_rate, iteration_num, print_cost = True)"
   ]
  }
 ],
 "metadata": {
  "kernelspec": {
   "display_name": "deeplearning",
   "language": "python",
   "name": "python3"
  },
  "language_info": {
   "codemirror_mode": {
    "name": "ipython",
    "version": 3
   },
   "file_extension": ".py",
   "mimetype": "text/x-python",
   "name": "python",
   "nbconvert_exporter": "python",
   "pygments_lexer": "ipython3",
   "version": "3.12.0"
  }
 },
 "nbformat": 4,
 "nbformat_minor": 2
}
