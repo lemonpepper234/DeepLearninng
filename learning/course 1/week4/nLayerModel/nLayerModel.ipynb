{
 "cells": [
  {
   "cell_type": "code",
   "execution_count": 1,
   "metadata": {},
   "outputs": [
    {
     "data": {
      "text/plain": [
       "'\\nnx\\nsizes_of_layers = [nx, ...., 1]\\n'"
      ]
     },
     "execution_count": 1,
     "metadata": {},
     "output_type": "execute_result"
    }
   ],
   "source": [
    "import numpy as np\n",
    "import h5py\n",
    "import matplotlib.pyplot as plt\n",
    "from tools import *\n",
    "from PIL import Image\n",
    "from scipy import ndimage\n",
    "from lr_utils import load_dataset\n",
    "from testCases_v3 import *\n",
    "\n",
    "plt.rcParams['figure.figsize'] = (5.0, 4.0) # set default size of plots\n",
    "plt.rcParams['image.interpolation'] = 'nearest'\n",
    "plt.rcParams['image.cmap'] = 'gray'\n",
    "\n",
    "\n",
    "np.random.seed(1)\n",
    "\"\"\"\n",
    "nx\n",
    "sizes_of_layers = [nx, ...., 1]\n",
    "\"\"\"\n",
    "\n",
    "\n"
   ]
  },
  {
   "cell_type": "code",
   "execution_count": 2,
   "metadata": {},
   "outputs": [],
   "source": [
    "def relu(Z):\n",
    "    \n",
    "    A = np.maximum(0, Z)\n",
    "    assert(A.shape == Z.shape)\n",
    "\n",
    "    cache = Z\n",
    "    return A\n",
    "\n",
    "def sigmoid(Z):\n",
    "    \n",
    "    A = 1/(1 + np.exp(-Z))\n",
    "    assert(A.shape == Z.shape)\n",
    "\n",
    "    cache = Z\n",
    "    return A\n",
    "\n",
    "#* dZ = dA* g'(Z)\n",
    "def back_relu(dA, Z):\n",
    "    \n",
    "    dZ = np.array(dA, copy = True)\n",
    "    dZ[Z <= 0 ] = 0\n",
    "\n",
    "    return dZ\n",
    "\n",
    "def back_sigmoid(dA, Z):\n",
    "\n",
    "    s = 1/(1 + np.exp(- Z))\n",
    "    dZ = dA * s * (1 - s)\n",
    "\n",
    "    return dZ"
   ]
  },
  {
   "cell_type": "markdown",
   "metadata": {},
   "source": [
    "## The cache of forward prop and backward prop:\n",
    "\n",
    "Forward prop: cache for lth layer = $[( \\text{A}^{[l]}, \\text{W}^{[l]}, \\text{b}^{[l]}, \\text{Z}^{[l]}), \\dots, ]$\n",
    "\n",
    "Backward prop: grads for lth layer = $\\{ \\text{dA}^{[l - 1]}, \\text{dW}^{[l]}, \\text{db}^{[l]} \\}$\n",
    "\n"
   ]
  },
  {
   "cell_type": "code",
   "execution_count": 3,
   "metadata": {},
   "outputs": [],
   "source": [
    "\n",
    "#* initialize the parameters: W and b\n",
    "\n",
    "def initialize_parameter(sizes_of_layers):\n",
    "    np.random.seed(1)\n",
    "    parameters = {}\n",
    "    #* only concern about the layer 2 to layer L, layer 1 is the input layer\n",
    "    for i in range(1, len(sizes_of_layers)):\n",
    "        parameters[\"W\" + str(i)] = np.random.rand(sizes_of_layers[i], sizes_of_layers[i - 1]) / np.sqrt(sizes_of_layers[i - 1])\n",
    "        parameters[\"b\" + str(i)] = np.zeros((sizes_of_layers[i], 1))\n",
    "\n",
    "    return parameters"
   ]
  },
  {
   "cell_type": "markdown",
   "metadata": {},
   "source": [
    "**Notice:**\n",
    "\n",
    "For the function which returns several variables, if you assign the function to single variable, then this variable will be Tulpe, namely `(variable1 , variable2 , ...)`\n",
    "\n",
    "**The structure of caches:**\n",
    "```python\n",
    "    caches[l] = (Al, Wl, bl, Zl, A_prev)\n",
    "```\n",
    "\n",
    "Which means it contians the input layer."
   ]
  },
  {
   "cell_type": "code",
   "execution_count": 4,
   "metadata": {},
   "outputs": [],
   "source": [
    "\n",
    "#* forward\n",
    "def forward_porpogate(X, parameters, activation):\n",
    "\n",
    "    caches = []\n",
    "\n",
    "    activation_dict = {\"relu\": relu,\n",
    "                       \"sigmoid\": sigmoid}\n",
    "    \n",
    "    activation_fun = activation_dict[activation]\n",
    "\n",
    "    L = len(parameters) // 2 # the number of layers, input layer doesn't contain\n",
    "\n",
    "    A = X\n",
    "    for i in range(1, L):\n",
    "        A_prev = A\n",
    "        W = parameters[\"W\" + str(i)]\n",
    "        b = parameters[\"b\" + str(i)]\n",
    "        Z = np.dot(W, A_prev) + b\n",
    "        A = activation_fun(Z)\n",
    "        caches.append((A, W, b, Z, A_prev))\n",
    "        \n",
    "        '''\n",
    "        print (\"A_prev\" + str(A_prev.shape))\n",
    "        print (\"W\" + str(W.shape))\n",
    "        print (\"b\" + str(b.shape))\n",
    "        print (\"Z\" + str(Z.shape))\n",
    "        print (\"A\" + str(A.shape))\n",
    "        '''\n",
    "\n",
    "\n",
    "    WL = parameters[\"W\" + str(L)]\n",
    "    bL = parameters[\"b\" + str(L)]\n",
    "    ZL = np.dot(WL, A) + bL\n",
    "    AL = sigmoid(ZL)\n",
    "    \n",
    "    '''\n",
    "    print (\"A\" + str(A.shape))\n",
    "    print (\"WL\" + str(WL.shape))\n",
    "    print (\"bL\" + str(bL.shape))\n",
    "    print (\"ZL\" + str(ZL.shape))\n",
    "    print (\"AL\" + str(AL.shape))\n",
    "    '''\n",
    "\n",
    "    caches.append((AL, WL, bL, ZL, A))\n",
    "\n",
    "    return caches\n"
   ]
  },
  {
   "cell_type": "code",
   "execution_count": 5,
   "metadata": {},
   "outputs": [
    {
     "name": "stdout",
     "output_type": "stream",
     "text": [
      "AL = [[0.03921668 0.70498921 0.19734387 0.04728177]]\n",
      "Length of caches list = 3\n"
     ]
    }
   ],
   "source": [
    "X, parameters = L_model_forward_test_case_2hidden()\n",
    "caches = forward_porpogate(X, parameters, \"relu\")\n",
    "AL, WL, bL, ZL, A = caches[len(caches) - 1]\n",
    "print(\"AL = \" + str(AL))\n",
    "print(\"Length of caches list = \" + str(len(caches)))"
   ]
  },
  {
   "cell_type": "code",
   "execution_count": 6,
   "metadata": {},
   "outputs": [],
   "source": [
    "\n",
    "#* cost function\n",
    "def cost_fun(A, Y):\n",
    "    m = Y.shape[1]\n",
    "\n",
    "    cost = -(1./m) * ( np.dot(Y, np.log(A.T)) + np.dot( 1 - Y , np.log( 1 - A ).T ) )\n",
    "    cost = np.squeeze(cost)\n",
    "    return cost\n",
    "\n",
    "#*backward\n",
    "def back_propogate(Y, caches, activation):\n",
    "\n",
    "    activation_dict={\"relu\": back_relu,\n",
    "                     \"sigmoid\": back_sigmoid}\n",
    "    \n",
    "    activation_fun = activation_dict[activation]\n",
    "\n",
    "\n",
    "    #* caches - AL WL bL ZL A_prev\n",
    "    grads = {}\n",
    "\n",
    "    m = Y.shape[1]\n",
    "\n",
    "    L = len(caches) # the number of layers, input layer doesn't contain\n",
    "    \n",
    "    AL, WL, bL, ZL, AL_prev = caches[L - 1]\n",
    "\n",
    "    dAL = -(np.divide(Y, AL) - np.divide(1 - Y, 1 - AL))\n",
    "    dZL = back_sigmoid(dAL, ZL)\n",
    "    dWL = (1/m) * np.dot(dZL, AL_prev.T)\n",
    "    dbL = (1/m) * np.sum(dZL, axis = 1, keepdims = True)\n",
    "    dAL_next = np.dot(WL.T, dZL)\n",
    "\n",
    "    grads[\"dW\" + str(L)] = dWL\n",
    "    grads[\"dA\" + str(L)] = dAL_next #! it denots dA^l-1 !!!\n",
    "    grads[\"db\" + str(L)] = dbL\n",
    "\n",
    "    for i in reversed(range(L - 1 )):\n",
    "        A, W, b, Z, A_prev = caches[i]\n",
    "\n",
    "        dA_current = grads[\"dA\" + str(i + 2)]\n",
    "        dZ = activation_fun(dA_current, Z)\n",
    "        dW = (1/m) * np.dot(dZ, A_prev.T)\n",
    "        db = (1/m) * np.sum(dZ, axis = 1, keepdims = True)\n",
    "        dA_next = np.dot(W.T, dZ)\n",
    "\n",
    "        grads[\"dW\" + str(i + 1)] = dW\n",
    "        grads[\"dA\" + str(i + 1)] = dA_next #! it denots dA^l-1 !!!\n",
    "        grads[\"db\" + str(i + 1)] = db\n",
    "\n",
    "    return grads"
   ]
  },
  {
   "cell_type": "code",
   "execution_count": 7,
   "metadata": {},
   "outputs": [
    {
     "name": "stdout",
     "output_type": "stream",
     "text": [
      "dW1 = [[0.41010002 0.07807203 0.13798444 0.10502167]\n",
      " [0.         0.         0.         0.        ]\n",
      " [0.05283652 0.01005865 0.01777766 0.0135308 ]]\n",
      "db1 = [[-0.22007063]\n",
      " [ 0.        ]\n",
      " [-0.02835349]]\n",
      "dA1 = [[ 0.12913162 -0.44014127]\n",
      " [-0.14175655  0.48317296]\n",
      " [ 0.01663708 -0.05670698]]\n"
     ]
    }
   ],
   "source": [
    "Y, caches = L_model_backward_test_case()\n",
    "grads = back_propogate(Y, caches, \"relu\")\n",
    "print_grads(grads)"
   ]
  },
  {
   "cell_type": "code",
   "execution_count": 8,
   "metadata": {},
   "outputs": [],
   "source": [
    "def update_parameters(parameters, grads, learning_rate):\n",
    "    L = len(parameters) // 2\n",
    "\n",
    "    for i in range(1 , L + 1):\n",
    "        parameters[\"W\" + str(i)] = parameters[\"W\" + str(i)] - learning_rate * grads[\"dW\" + str(i)]\n",
    "        parameters[\"b\" + str(i)] = parameters[\"b\" + str(i)] - learning_rate * grads[\"db\" + str(i)]\n",
    "\n",
    "    return parameters"
   ]
  },
  {
   "cell_type": "code",
   "execution_count": 9,
   "metadata": {},
   "outputs": [
    {
     "name": "stdout",
     "output_type": "stream",
     "text": [
      "W1 = [[-0.59562069 -0.09991781 -2.14584584  1.82662008]\n",
      " [-1.76569676 -0.80627147  0.51115557 -1.18258802]\n",
      " [-1.0535704  -0.86128581  0.68284052  2.20374577]]\n",
      "b1 = [[-0.04659241]\n",
      " [-1.28888275]\n",
      " [ 0.53405496]]\n",
      "W2 = [[-0.55569196  0.0354055   1.32964895]]\n",
      "b2 = [[-0.84610769]]\n"
     ]
    }
   ],
   "source": [
    "parameters, grads = update_parameters_test_case()\n",
    "parameters = update_parameters(parameters, grads, 0.1)\n",
    "\n",
    "print (\"W1 = \"+ str(parameters[\"W1\"]))\n",
    "print (\"b1 = \"+ str(parameters[\"b1\"]))\n",
    "print (\"W2 = \"+ str(parameters[\"W2\"]))\n",
    "print (\"b2 = \"+ str(parameters[\"b2\"]))"
   ]
  },
  {
   "cell_type": "markdown",
   "metadata": {},
   "source": [
    "## The Data Normalization:\n",
    "\n",
    "Nomalizse the data, for RGB matrix, just divide it by 255."
   ]
  },
  {
   "cell_type": "code",
   "execution_count": 10,
   "metadata": {},
   "outputs": [
    {
     "name": "stdout",
     "output_type": "stream",
     "text": [
      "sb\n"
     ]
    }
   ],
   "source": [
    "train_set_x_orig, train_set_y, test_set_x_orig, test_set_y, classes = load_dataset()\n",
    "\n",
    "x_set_train_flatten = train_set_x_orig.reshape(train_set_x_orig.shape[0], -1).T\n",
    "x_set_test_flatten = test_set_x_orig.reshape(test_set_x_orig.shape[0], -1).T\n",
    "\n",
    "#* normoliaze\n",
    "train_x =x_set_train_flatten/255.\n",
    "test_x = x_set_test_flatten/255.\n",
    "\n",
    "print (\"sb\")"
   ]
  },
  {
   "cell_type": "markdown",
   "metadata": {},
   "source": []
  },
  {
   "cell_type": "code",
   "execution_count": 11,
   "metadata": {},
   "outputs": [],
   "source": [
    "def L_layer_model_training(X, Y, sizes_of_layers, activation, learning_rate, iteration_num, print_cost = True):\n",
    "\n",
    "    #* check whether the size of the first and last layer are set correctly.\n",
    "    assert sizes_of_layers[0] == X.shape[0], \"the size of the first layer does not match the input layer.\"\n",
    "    assert sizes_of_layers[-1] == 1, \"the output is a value not array!\"\n",
    "\n",
    "    parameters = initialize_parameter(sizes_of_layers)\n",
    "\n",
    "    cost_list = []\n",
    "\n",
    "    for i in range(0, iteration_num ):\n",
    "        caches = forward_porpogate(X, parameters, activation)\n",
    "        grads = back_propogate(Y, caches, activation)\n",
    "        parameters = update_parameters(parameters, grads, learning_rate)\n",
    "\n",
    "        AL, WL, bL, ZL, A = caches[-1]\n",
    "        cost = cost_fun(AL, Y)\n",
    "\n",
    "        if print_cost and i % 100 == 0:\n",
    "            print(\"Cost after iteration {}: {}\".format(i, np.squeeze(cost)))\n",
    "            print (grads)\n",
    "        if print_cost and i % 100 == 0:\n",
    "            cost_list.append(cost)\n",
    "\n",
    "    return parameters\n"
   ]
  },
  {
   "cell_type": "code",
   "execution_count": 12,
   "metadata": {},
   "outputs": [
    {
     "name": "stdout",
     "output_type": "stream",
     "text": [
      "{'W1': array([[3.76199635e-03, 6.49811782e-03, 1.03178643e-06, ...,\n",
      "        3.04518816e-03, 1.01299851e-03, 4.84475558e-03],\n",
      "       [6.38634454e-03, 3.04665939e-03, 6.38652384e-03, ...,\n",
      "        3.80727150e-03, 7.02376566e-03, 3.15617564e-03],\n",
      "       [8.13106245e-03, 7.17297128e-05, 9.36182785e-04, ...,\n",
      "        2.51329999e-03, 4.56298881e-04, 7.45890390e-03],\n",
      "       ...,\n",
      "       [3.35517384e-03, 1.33177746e-03, 6.85927115e-03, ...,\n",
      "        5.37530908e-03, 1.06717863e-03, 5.89110510e-03],\n",
      "       [6.56081722e-03, 6.35846413e-03, 2.18256253e-03, ...,\n",
      "        5.03250890e-04, 8.44477676e-03, 7.23351825e-03],\n",
      "       [8.30425485e-03, 3.05953392e-03, 7.87889731e-03, ...,\n",
      "        6.20811200e-03, 8.15059858e-03, 4.41814872e-04]]), 'b1': array([[0.],\n",
      "       [0.],\n",
      "       [0.],\n",
      "       [0.],\n",
      "       [0.],\n",
      "       [0.],\n",
      "       [0.],\n",
      "       [0.],\n",
      "       [0.],\n",
      "       [0.],\n",
      "       [0.],\n",
      "       [0.],\n",
      "       [0.],\n",
      "       [0.],\n",
      "       [0.],\n",
      "       [0.],\n",
      "       [0.],\n",
      "       [0.],\n",
      "       [0.],\n",
      "       [0.]]), 'W2': array([[0.18399693, 0.04467037, 0.05311406, 0.14872008, 0.14888483,\n",
      "        0.06707259, 0.08189164, 0.17650472, 0.18448187, 0.05567762,\n",
      "        0.10617901, 0.13575206, 0.20314965, 0.18489636, 0.00909972,\n",
      "        0.22189545, 0.05813975, 0.02970132, 0.17819264, 0.0236699 ],\n",
      "       [0.0154064 , 0.1291583 , 0.00577388, 0.21210884, 0.12762191,\n",
      "        0.03368725, 0.20822415, 0.1072838 , 0.082003  , 0.21776386,\n",
      "        0.01106247, 0.1359068 , 0.12226156, 0.17393138, 0.12601402,\n",
      "        0.06022061, 0.02407774, 0.20630972, 0.07517099, 0.02274451],\n",
      "       [0.13834072, 0.21656674, 0.19168562, 0.01720183, 0.06502011,\n",
      "        0.21858556, 0.1750858 , 0.12596922, 0.16040176, 0.13022249,\n",
      "        0.18325818, 0.08511252, 0.10828548, 0.0927696 , 0.17232496,\n",
      "        0.07730732, 0.11402338, 0.20683135, 0.04477084, 0.11192755],\n",
      "       [0.0104767 , 0.01408585, 0.18769794, 0.16117881, 0.18037005,\n",
      "        0.09633029, 0.05276021, 0.10463705, 0.11107783, 0.09263405,\n",
      "        0.06526757, 0.02505848, 0.07951102, 0.07853383, 0.20292715,\n",
      "        0.16439584, 0.05360982, 0.09905929, 0.19009327, 0.04376088],\n",
      "       [0.15106047, 0.21353446, 0.20599648, 0.1238328 , 0.03664684,\n",
      "        0.18651826, 0.02819098, 0.13197755, 0.13233385, 0.07185955,\n",
      "        0.18800935, 0.05583358, 0.03316883, 0.1256938 , 0.06220991,\n",
      "        0.19638935, 0.08931229, 0.13586163, 0.06553858, 0.21938842],\n",
      "       [0.19183034, 0.07376856, 0.15760444, 0.05337437, 0.05816417,\n",
      "        0.11000831, 0.15968861, 0.08479607, 0.01524564, 0.16605198,\n",
      "        0.12548509, 0.18575523, 0.00529219, 0.03290962, 0.04005846,\n",
      "        0.05515699, 0.18902965, 0.11400069, 0.17908825, 0.13749882],\n",
      "       [0.04560933, 0.20335239, 0.17847132, 0.14398903, 0.00550867,\n",
      "        0.00884936, 0.12182044, 0.00958225, 0.09061633, 0.10997771,\n",
      "        0.02797914, 0.19503844, 0.03490305, 0.13719342, 0.16848833,\n",
      "        0.1463525 , 0.01768464, 0.03894764, 0.02148497, 0.04894268]]), 'b2': array([[0.],\n",
      "       [0.],\n",
      "       [0.],\n",
      "       [0.],\n",
      "       [0.],\n",
      "       [0.],\n",
      "       [0.]]), 'W3': array([[0.0869512 , 0.01171766, 0.30707152, 0.16621563, 0.18277549,\n",
      "        0.25471609, 0.35604509],\n",
      "       [0.16588038, 0.37727883, 0.11800801, 0.10462287, 0.12592256,\n",
      "        0.00307097, 0.3425541 ],\n",
      "       [0.28784549, 0.10773425, 0.05307724, 0.21920971, 0.32362965,\n",
      "        0.31270743, 0.18747435],\n",
      "       [0.12449839, 0.35599317, 0.36730957, 0.31139946, 0.36848091,\n",
      "        0.18859096, 0.19772302],\n",
      "       [0.02201304, 0.27882878, 0.04364222, 0.23394989, 0.08878913,\n",
      "        0.26832136, 0.2736697 ]]), 'b3': array([[0.],\n",
      "       [0.],\n",
      "       [0.],\n",
      "       [0.],\n",
      "       [0.]]), 'W4': array([[0.20983879, 0.02797425, 0.18421349, 0.0500964 , 0.15469969]]), 'b4': array([[0.]])}\n"
     ]
    },
    {
     "name": "stderr",
     "output_type": "stream",
     "text": [
      "C:\\Users\\liang\\AppData\\Local\\Temp\\ipykernel_37312\\1092980061.py:27: RuntimeWarning: divide by zero encountered in divide\n",
      "  dAL = -(np.divide(Y, AL) - np.divide(1 - Y, 1 - AL))\n",
      "C:\\Users\\liang\\AppData\\Local\\Temp\\ipykernel_37312\\1092980061.py:27: RuntimeWarning: invalid value encountered in divide\n",
      "  dAL = -(np.divide(Y, AL) - np.divide(1 - Y, 1 - AL))\n",
      "C:\\Users\\liang\\AppData\\Local\\Temp\\ipykernel_37312\\309989247.py:28: RuntimeWarning: invalid value encountered in multiply\n",
      "  dZ = dA * s * (1 - s)\n",
      "C:\\Users\\liang\\AppData\\Local\\Temp\\ipykernel_37312\\1092980061.py:5: RuntimeWarning: divide by zero encountered in log\n",
      "  cost = -(1./m) * ( np.dot(Y, np.log(A.T)) + np.dot( 1 - Y , np.log( 1 - A ).T ) )\n"
     ]
    }
   ],
   "source": [
    "activation = \"relu\"\n",
    "learning_rate = 0.0075\n",
    "sizes_of_layers = [12288, 20, 7, 5, 1]\n",
    "\n",
    "parameters = initialize_parameter(sizes_of_layers)\n",
    "print(parameters)\n",
    "caches = forward_porpogate(train_x, parameters, activation)\n",
    "grads = back_propogate(train_set_y, caches, activation)\n",
    "parameters = update_parameters(parameters, grads, learning_rate)\n",
    "\n",
    "AL, WL, bL, ZL, A = caches[-1]\n",
    "cost = cost_fun(AL, train_set_y)\n",
    "\n",
    "#print(AL)\n",
    "#print(cost)\n",
    "#print(grads)"
   ]
  },
  {
   "cell_type": "code",
   "execution_count": 13,
   "metadata": {},
   "outputs": [
    {
     "data": {
      "text/plain": [
       "'sizes_of_layers = [12288, 20, 7, 5, 1]\\niteration_num = 3000\\nlearning_rate = 0.0075\\nactivation = \"relu\"\\n\\nprint(train_x.shape[1])\\n\\nL_layer_model_training(train_x, train_set_y, sizes_of_layers, activation, learning_rate, iteration_num, print_cost = True)'"
      ]
     },
     "execution_count": 13,
     "metadata": {},
     "output_type": "execute_result"
    }
   ],
   "source": [
    "'''sizes_of_layers = [12288, 20, 7, 5, 1]\n",
    "iteration_num = 3000\n",
    "learning_rate = 0.0075\n",
    "activation = \"relu\"\n",
    "\n",
    "print(train_x.shape[1])\n",
    "\n",
    "L_layer_model_training(train_x, train_set_y, sizes_of_layers, activation, learning_rate, iteration_num, print_cost = True)'''"
   ]
  }
 ],
 "metadata": {
  "kernelspec": {
   "display_name": "deeplearning",
   "language": "python",
   "name": "python3"
  },
  "language_info": {
   "codemirror_mode": {
    "name": "ipython",
    "version": 3
   },
   "file_extension": ".py",
   "mimetype": "text/x-python",
   "name": "python",
   "nbconvert_exporter": "python",
   "pygments_lexer": "ipython3",
   "version": "3.12.0"
  }
 },
 "nbformat": 4,
 "nbformat_minor": 2
}
